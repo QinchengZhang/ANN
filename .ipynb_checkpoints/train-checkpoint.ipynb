{
 "cells": [
  {
   "cell_type": "markdown",
   "metadata": {},
   "source": [
    "# ANN网络训练过程"
   ]
  },
  {
   "cell_type": "code",
   "execution_count": null,
   "metadata": {},
   "outputs": [],
   "source": [
    "import os\n",
    "import numpy as np\n",
    "from Model import ANN\n",
    "from matplotlib import pyplot as plt\n",
    "import time"
   ]
  },
  {
   "cell_type": "markdown",
   "metadata": {},
   "source": [
    "打开日志文件以便保存每次运行的参数设置"
   ]
  },
  {
   "cell_type": "code",
   "execution_count": null,
   "metadata": {},
   "outputs": [],
   "source": [
    "log = open('results.log', 'a+')"
   ]
  },
  {
   "cell_type": "markdown",
   "metadata": {},
   "source": [
    "设置y=a·sin(b·x)+c·cos(d·x)中的a,b,c,d"
   ]
  },
  {
   "cell_type": "code",
   "execution_count": null,
   "metadata": {},
   "outputs": [],
   "source": [
    "a=2\n",
    "b=2\n",
    "c=2\n",
    "d=1"
   ]
  },
  {
   "cell_type": "markdown",
   "metadata": {},
   "source": [
    "定义生成真实标签y的函数"
   ]
  },
  {
   "cell_type": "code",
   "execution_count": null,
   "metadata": {},
   "outputs": [],
   "source": [
    "def genrate_actual_label(x):\n",
    "#     noise = np.random.normal(0, 0.05, x.shape)\n",
    "    return a * np.sin(b * x) + c * np.cos(d * x)"
   ]
  },
  {
   "cell_type": "markdown",
   "metadata": {},
   "source": [
    "生成训练集和测试集"
   ]
  },
  {
   "cell_type": "code",
   "execution_count": null,
   "metadata": {},
   "outputs": [],
   "source": [
    "sample_domain = (-2*np.pi, 2 * np.pi)\n",
    "sample_num = 1000\n",
    "train_x = np.linspace(sample_domain[0], sample_domain[1], sample_num)\n",
    "train_x = train_x.reshape(-1,1)\n",
    "train_y = genrate_actual_label(train_x)\n",
    "test_x = np.linspace(sample_domain[0], sample_domain[1], sample_num)\n",
    "test_x = test_x.reshape(-1,1)\n",
    "test_y = genrate_actual_label(test_x)"
   ]
  },
  {
   "cell_type": "markdown",
   "metadata": {},
   "source": [
    "定义网络配置"
   ]
  },
  {
   "cell_type": "code",
   "execution_count": null,
   "metadata": {},
   "outputs": [],
   "source": [
    "network_structure = [1, 30, 30, 30, 1]\n",
    "activation = 'tanh'\n",
    "epochs = 90000\n",
    "learning_rate = 0.003"
   ]
  },
  {
   "cell_type": "markdown",
   "metadata": {},
   "source": [
    "初始化网络并开始训练"
   ]
  },
  {
   "cell_type": "code",
   "execution_count": null,
   "metadata": {},
   "outputs": [],
   "source": [
    "model = ANN(network_structure, activation_hidden=activation, activation_out='linear')\n",
    "losses = model.fit(train_x, train_y, epochs=epochs,learning_rate=learning_rate)"
   ]
  },
  {
   "cell_type": "markdown",
   "metadata": {},
   "source": [
    "画出loss曲线"
   ]
  },
  {
   "cell_type": "code",
   "execution_count": null,
   "metadata": {},
   "outputs": [],
   "source": [
    "plt.plot(losses)\n",
    "plt.show()"
   ]
  },
  {
   "cell_type": "markdown",
   "metadata": {},
   "source": [
    "保存网络模型和参数"
   ]
  },
  {
   "cell_type": "code",
   "execution_count": null,
   "metadata": {},
   "outputs": [],
   "source": [
    "h5_filename = 'net-{}.h5'.format(time.time())\n",
    "model.save(os.path.join('h5files',h5_filename))"
   ]
  },
  {
   "cell_type": "markdown",
   "metadata": {},
   "source": [
    "用测试集进行预测"
   ]
  },
  {
   "cell_type": "code",
   "execution_count": null,
   "metadata": {},
   "outputs": [],
   "source": [
    "y_pred = model.predict(test_x)"
   ]
  },
  {
   "cell_type": "markdown",
   "metadata": {},
   "source": [
    "画出真实y与预测y值,真实y用散点图画出,预测y用曲线表示,并保存该图片"
   ]
  },
  {
   "cell_type": "code",
   "execution_count": null,
   "metadata": {},
   "outputs": [],
   "source": [
    "plt.title('y = {a} * np.sin({b} * x) + {c} * np.cos({d} * x), activation is {act}, learning rate is {lr}, epochs is {epochs}'.format(\n",
    "    act=activation, lr=learning_rate, epochs=epochs, a=a, b=b, c=c, d=d))\n",
    "plt.scatter(test_x, test_y, label='GT')\n",
    "plt.plot(test_x, y_pred, color='red', label='predict')\n",
    "plt.legend()\n",
    "fig_filename = 'fig-{}.jpg'.format(time.time())\n",
    "plt.savefig(os.path.join('figures', fig_filename))\n",
    "plt.show()"
   ]
  },
  {
   "cell_type": "markdown",
   "metadata": {},
   "source": [
    "记录本次运行的参数设置"
   ]
  },
  {
   "cell_type": "code",
   "execution_count": null,
   "metadata": {},
   "outputs": [],
   "source": [
    "log.write('function is : y = {a} * np.sin({b} * x) + {c} * np.cos({d} * x), sample domain: {domain}, sample num : {sample}, network structure is {net_struct}, activation is {act}, learning rate is {lr}, epochs is {epochs}, npy_filename is {h5_filename}, fig_filename is {fig_filename}\\n'.format(\n",
    "    domain=sample_domain, sample=sample_num, net_struct=network_structure, epochs=epochs, h5_filename=h5_filename, fig_filename=fig_filename, act=activation, lr=learning_rate, a=a,b=b,c=c,d=d))\n",
    "log.close()"
   ]
  }
 ],
 "metadata": {
  "kernelspec": {
   "display_name": "Python 3",
   "language": "python",
   "name": "python3"
  },
  "language_info": {
   "codemirror_mode": {
    "name": "ipython",
    "version": 3
   },
   "file_extension": ".py",
   "mimetype": "text/x-python",
   "name": "python",
   "nbconvert_exporter": "python",
   "pygments_lexer": "ipython3",
   "version": "3.7.0"
  }
 },
 "nbformat": 4,
 "nbformat_minor": 2
}
